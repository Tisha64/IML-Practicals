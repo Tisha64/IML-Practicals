{
 "cells": [
  {
   "cell_type": "code",
   "execution_count": 1,
   "id": "0db25dea",
   "metadata": {
    "execution": {
     "iopub.execute_input": "2023-10-25T05:43:48.216228Z",
     "iopub.status.busy": "2023-10-25T05:43:48.215762Z",
     "iopub.status.idle": "2023-10-25T05:43:48.529072Z",
     "shell.execute_reply": "2023-10-25T05:43:48.527048Z"
    },
    "papermill": {
     "duration": 0.318927,
     "end_time": "2023-10-25T05:43:48.531335",
     "exception": false,
     "start_time": "2023-10-25T05:43:48.212408",
     "status": "completed"
    },
    "tags": []
   },
   "outputs": [
    {
     "name": "stdout",
     "output_type": "stream",
     "text": [
      "0       62\n",
      "1       61\n",
      "2      NaN\n",
      "3       56\n",
      "4    Tisha\n",
      "dtype: object\n",
      "0    False\n",
      "1    False\n",
      "2     True\n",
      "3    False\n",
      "4    False\n",
      "dtype: bool\n",
      "0     True\n",
      "1     True\n",
      "2    False\n",
      "3     True\n",
      "4     True\n",
      "dtype: bool\n"
     ]
    }
   ],
   "source": [
    "#Write a Pandas program to filter all columns where all entries present,check which rows and columns has a NaN and finally drop rows with anyNaNs from the given dataset.\n",
    "\n",
    "# Developed By: Solanki Tisha\n",
    "# Enrollement No: 216270307062\n",
    "\n",
    "import pandas as pd\n",
    "import numpy as np\n",
    "s = pd.Series([62,61,np.nan,56,\"Tisha\"])\n",
    "print(s)\n",
    "print(s.isnull())\n",
    "print(s.notnull())"
   ]
  }
 ],
 "metadata": {
  "kernelspec": {
   "display_name": "Python 3",
   "language": "python",
   "name": "python3"
  },
  "language_info": {
   "codemirror_mode": {
    "name": "ipython",
    "version": 3
   },
   "file_extension": ".py",
   "mimetype": "text/x-python",
   "name": "python",
   "nbconvert_exporter": "python",
   "pygments_lexer": "ipython3",
   "version": "3.10.12"
  },
  "papermill": {
   "default_parameters": {},
   "duration": 3.596737,
   "end_time": "2023-10-25T05:43:48.955324",
   "environment_variables": {},
   "exception": null,
   "input_path": "__notebook__.ipynb",
   "output_path": "__notebook__.ipynb",
   "parameters": {},
   "start_time": "2023-10-25T05:43:45.358587",
   "version": "2.4.0"
  }
 },
 "nbformat": 4,
 "nbformat_minor": 5
}
