{
 "cells": [
  {
   "cell_type": "code",
   "execution_count": 1,
   "id": "d2281a50",
   "metadata": {
    "execution": {
     "iopub.execute_input": "2023-10-24T17:47:44.206470Z",
     "iopub.status.busy": "2023-10-24T17:47:44.206077Z",
     "iopub.status.idle": "2023-10-24T17:47:45.031734Z",
     "shell.execute_reply": "2023-10-24T17:47:45.030528Z"
    },
    "papermill": {
     "duration": 0.833871,
     "end_time": "2023-10-24T17:47:45.034280",
     "exception": false,
     "start_time": "2023-10-24T17:47:44.200409",
     "status": "completed"
    },
    "tags": []
   },
   "outputs": [
    {
     "name": "stdout",
     "output_type": "stream",
     "text": [
      "Numpy array:- \n",
      " [6 0]\n",
      "Pandas Series : \n",
      " T    6\n",
      "S    0\n",
      "dtype: int64\n"
     ]
    }
   ],
   "source": [
    "#Write a Pandas program to implement following operation\n",
    "#to convert a NumPy array to a Pandas series\n",
    "\n",
    "# Developed By: Solanki Tisha\n",
    "# Enrollement No: 216270307062\n",
    "\n",
    "import numpy as np \n",
    "import pandas as pd \n",
    "\n",
    "array = np.array([6,0])\n",
    "labels = [\"T\", \"S\"]\n",
    "print(\"Numpy array:- \\n\",array)\n",
    "series = pd.Series(array, index=labels)\n",
    "print(\"Pandas Series : \\n\",series)"
   ]
  },
  {
   "cell_type": "code",
   "execution_count": 2,
   "id": "c9a5669b",
   "metadata": {
    "execution": {
     "iopub.execute_input": "2023-10-24T17:47:45.044409Z",
     "iopub.status.busy": "2023-10-24T17:47:45.043538Z",
     "iopub.status.idle": "2023-10-24T17:47:45.063492Z",
     "shell.execute_reply": "2023-10-24T17:47:45.062116Z"
    },
    "papermill": {
     "duration": 0.027196,
     "end_time": "2023-10-24T17:47:45.066410",
     "exception": false,
     "start_time": "2023-10-24T17:47:45.039214",
     "status": "completed"
    },
    "tags": []
   },
   "outputs": [
    {
     "name": "stdout",
     "output_type": "stream",
     "text": [
      "Empty DataFrame\n",
      "Columns: []\n",
      "Index: []\n",
      "\n",
      "Dataframe:\n",
      "\n",
      "    A   B\n",
      "0  21  64\n",
      "1  22  65\n",
      "2  23  66\n"
     ]
    }
   ],
   "source": [
    "#Write a Pandas program to implement following operation\n",
    "#to convert the first column of a DataFrame \n",
    "\n",
    "# Developed By: Solanki Tisha\n",
    "# Enrollement No: 216270307062\n",
    "\n",
    "import pandas as pd \n",
    "\n",
    "xy = pd.DataFrame()\n",
    "print(xy)\n",
    "xy = pd.DataFrame({'A':[21,22,23],'B':[64,65,66],})\n",
    "print(\"\\nDataframe:\\n\")\n",
    "print(xy);"
   ]
  },
  {
   "cell_type": "code",
   "execution_count": 3,
   "id": "aae7e919",
   "metadata": {
    "execution": {
     "iopub.execute_input": "2023-10-24T17:47:45.074097Z",
     "iopub.status.busy": "2023-10-24T17:47:45.073630Z",
     "iopub.status.idle": "2023-10-24T17:47:45.083535Z",
     "shell.execute_reply": "2023-10-24T17:47:45.082392Z"
    },
    "papermill": {
     "duration": 0.016654,
     "end_time": "2023-10-24T17:47:45.086087",
     "exception": false,
     "start_time": "2023-10-24T17:47:45.069433",
     "status": "completed"
    },
    "tags": []
   },
   "outputs": [
    {
     "name": "stdout",
     "output_type": "stream",
     "text": [
      "0    1\n",
      "1    2\n",
      "2    3\n",
      "3    4\n",
      "4    5\n",
      "5    6\n",
      "6    7\n",
      "7    8\n",
      "dtype: int64\n",
      "2.449489742783178\n",
      "4.5\n"
     ]
    }
   ],
   "source": [
    "#Write a Pandas program to implement following operation\n",
    "#to create the mean and standard deviation of the data of a given Series\n",
    "\n",
    "# Developed By: Solanki Tisha\n",
    "# Enrollement No: 216270307062\n",
    "\n",
    "import pandas as pd\n",
    "s = pd.Series(data = [1, 2, 3,4, 5, 6, 7, 8])\n",
    "print(s)\n",
    "print(s.std())\n",
    "print(s.mean())"
   ]
  },
  {
   "cell_type": "code",
   "execution_count": 4,
   "id": "2f22a724",
   "metadata": {
    "execution": {
     "iopub.execute_input": "2023-10-24T17:47:45.093526Z",
     "iopub.status.busy": "2023-10-24T17:47:45.093113Z",
     "iopub.status.idle": "2023-10-24T17:47:45.104992Z",
     "shell.execute_reply": "2023-10-24T17:47:45.103420Z"
    },
    "papermill": {
     "duration": 0.018428,
     "end_time": "2023-10-24T17:47:45.107479",
     "exception": false,
     "start_time": "2023-10-24T17:47:45.089051",
     "status": "completed"
    },
    "tags": []
   },
   "outputs": [
    {
     "name": "stdout",
     "output_type": "stream",
     "text": [
      "0    2\n",
      "1    1\n",
      "2    3\n",
      "3    5\n",
      "4    4\n",
      "5    6\n",
      "6    8\n",
      "7    7\n",
      "dtype: int64\n",
      "\n",
      " 1    1\n",
      "0    2\n",
      "2    3\n",
      "4    4\n",
      "3    5\n",
      "5    6\n",
      "7    7\n",
      "6    8\n",
      "dtype: int64\n"
     ]
    }
   ],
   "source": [
    "#Write a Pandas program to implement following operation\n",
    "#to sort a given Series\n",
    "\n",
    "# Developed By: Solanki Tisha\n",
    "# Enrollement No: 216270307062\n",
    "\n",
    "import pandas as pd\n",
    "s = pd.Series(data = [2, 1, 3,5, 4, 6, 8, 7])\n",
    "print(s)\n",
    "print(\"\\n\", s.sort_values())"
   ]
  }
 ],
 "metadata": {
  "kernelspec": {
   "display_name": "Python 3",
   "language": "python",
   "name": "python3"
  },
  "language_info": {
   "codemirror_mode": {
    "name": "ipython",
    "version": 3
   },
   "file_extension": ".py",
   "mimetype": "text/x-python",
   "name": "python",
   "nbconvert_exporter": "python",
   "pygments_lexer": "ipython3",
   "version": "3.10.12"
  },
  "papermill": {
   "default_parameters": {},
   "duration": 6.158865,
   "end_time": "2023-10-24T17:47:45.630906",
   "environment_variables": {},
   "exception": null,
   "input_path": "__notebook__.ipynb",
   "output_path": "__notebook__.ipynb",
   "parameters": {},
   "start_time": "2023-10-24T17:47:39.472041",
   "version": "2.4.0"
  }
 },
 "nbformat": 4,
 "nbformat_minor": 5
}
