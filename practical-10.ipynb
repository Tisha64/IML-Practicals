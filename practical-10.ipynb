{
 "cells": [
  {
   "cell_type": "code",
   "execution_count": 1,
   "id": "ae36793e",
   "metadata": {
    "execution": {
     "iopub.execute_input": "2023-10-24T18:06:35.541771Z",
     "iopub.status.busy": "2023-10-24T18:06:35.541335Z",
     "iopub.status.idle": "2023-10-24T18:06:35.988285Z",
     "shell.execute_reply": "2023-10-24T18:06:35.987075Z"
    },
    "papermill": {
     "duration": 0.454064,
     "end_time": "2023-10-24T18:06:35.991176",
     "exception": false,
     "start_time": "2023-10-24T18:06:35.537112",
     "status": "completed"
    },
    "tags": []
   },
   "outputs": [
    {
     "name": "stdout",
     "output_type": "stream",
     "text": [
      "Original DataFrame:\n",
      "     A    B  C\n",
      "0  1.0  NaN  1\n",
      "1  2.0  2.0  2\n",
      "2  NaN  3.0  3\n",
      "3  4.0  4.0  4\n",
      "4  5.0  NaN  5\n",
      "\n",
      "DataFrame after dropping missing values:\n",
      "     A    B  C\n",
      "1  2.0  2.0  2\n",
      "3  4.0  4.0  4\n"
     ]
    }
   ],
   "source": [
    "#Write a Pandas program to implement following operation\n",
    "#to find and drop the missing values from the given dataset\n",
    "\n",
    "# Developed By: Solanki Tisha\n",
    "# Enrollement No: 216270307062\n",
    "\n",
    "\n",
    "import pandas as pd\n",
    "\n",
    "data = {'A': [1, 2, None, 4, 5],\n",
    "        'B': [None, 2, 3, 4, None],\n",
    "        'C': [1, 2, 3, 4, 5]}\n",
    "\n",
    "df = pd.DataFrame(data)\n",
    "print(\"Original DataFrame:\")\n",
    "print(df)\n",
    "\n",
    "df_cleaned = df.dropna()\n",
    "print(\"\\nDataFrame after dropping missing values:\")\n",
    "print(df_cleaned)"
   ]
  },
  {
   "cell_type": "code",
   "execution_count": 2,
   "id": "ff17cde1",
   "metadata": {
    "execution": {
     "iopub.execute_input": "2023-10-24T18:06:35.999576Z",
     "iopub.status.busy": "2023-10-24T18:06:35.998598Z",
     "iopub.status.idle": "2023-10-24T18:06:36.020879Z",
     "shell.execute_reply": "2023-10-24T18:06:36.019504Z"
    },
    "papermill": {
     "duration": 0.029797,
     "end_time": "2023-10-24T18:06:36.023236",
     "exception": false,
     "start_time": "2023-10-24T18:06:35.993439",
     "status": "completed"
    },
    "tags": []
   },
   "outputs": [
    {
     "name": "stdout",
     "output_type": "stream",
     "text": [
      "Original DataFrame:\n",
      "   A       B\n",
      "0  1   apple\n",
      "1  2  banana\n",
      "2  2  banana\n",
      "3  3  cherry\n",
      "4  4    date\n",
      "5  4    date\n",
      "\n",
      "DataFrame after removing duplicates:\n",
      "   A       B\n",
      "0  1   apple\n",
      "1  2  banana\n",
      "3  3  cherry\n",
      "4  4    date\n"
     ]
    }
   ],
   "source": [
    "#Write a Pandas program to implement following operation\n",
    "#to remove the duplicates from the given dataset.\n",
    "\n",
    "# Developed By: Solanki Tisha\n",
    "# Enrollement No: 216270307062\n",
    "\n",
    "\n",
    "\n",
    "import pandas as pd\n",
    "\n",
    "\n",
    "data = {'A': [1, 2, 2, 3, 4, 4],\n",
    "        'B': ['apple', 'banana', 'banana', 'cherry', 'date', 'date']}\n",
    "\n",
    "df = pd.DataFrame(data)\n",
    "\n",
    "\n",
    "print(\"Original DataFrame:\")\n",
    "print(df)\n",
    "\n",
    "\n",
    "df_no_duplicates = df.drop_duplicates()\n",
    "\n",
    "# Display the DataFrame after removing duplicates\n",
    "print(\"\\nDataFrame after removing duplicates:\")\n",
    "print(df_no_duplicates)"
   ]
  }
 ],
 "metadata": {
  "kernelspec": {
   "display_name": "Python 3",
   "language": "python",
   "name": "python3"
  },
  "language_info": {
   "codemirror_mode": {
    "name": "ipython",
    "version": 3
   },
   "file_extension": ".py",
   "mimetype": "text/x-python",
   "name": "python",
   "nbconvert_exporter": "python",
   "pygments_lexer": "ipython3",
   "version": "3.10.12"
  },
  "papermill": {
   "default_parameters": {},
   "duration": 4.677948,
   "end_time": "2023-10-24T18:06:36.545657",
   "environment_variables": {},
   "exception": null,
   "input_path": "__notebook__.ipynb",
   "output_path": "__notebook__.ipynb",
   "parameters": {},
   "start_time": "2023-10-24T18:06:31.867709",
   "version": "2.4.0"
  }
 },
 "nbformat": 4,
 "nbformat_minor": 5
}
