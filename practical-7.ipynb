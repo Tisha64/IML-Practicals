{
 "cells": [
  {
   "cell_type": "code",
   "execution_count": 1,
   "id": "5fc0ebd5",
   "metadata": {
    "execution": {
     "iopub.execute_input": "2023-10-24T17:55:02.598591Z",
     "iopub.status.busy": "2023-10-24T17:55:02.597737Z",
     "iopub.status.idle": "2023-10-24T17:55:03.067984Z",
     "shell.execute_reply": "2023-10-24T17:55:03.066592Z"
    },
    "papermill": {
     "duration": 0.478917,
     "end_time": "2023-10-24T17:55:03.071432",
     "exception": false,
     "start_time": "2023-10-24T17:55:02.592515",
     "status": "completed"
    },
    "tags": []
   },
   "outputs": [
    {
     "name": "stdout",
     "output_type": "stream",
     "text": [
      "     Name  Age\n",
      "0   tisha   18\n",
      "1   hiral   17\n",
      "2  shreya   15\n",
      "3   prexa   13\n"
     ]
    }
   ],
   "source": [
    "#Write a Pandas program to implement following operation\n",
    "#to create a dataframe from a dictionary and display it\n",
    "\n",
    "# Developed By: Solanki Tisha\n",
    "# Enrollement No: 216270307062\n",
    "\n",
    "import numpy as np \n",
    "import pandas as pd \n",
    "\n",
    "data = {\n",
    "    'Name': ['tisha','hiral','shreya','prexa'],\n",
    "    'Age': [18, 17, 15, 13]\n",
    "}\n",
    "\n",
    "df = pd.DataFrame(data)\n",
    "print(df)"
   ]
  },
  {
   "cell_type": "code",
   "execution_count": 2,
   "id": "6d574350",
   "metadata": {
    "execution": {
     "iopub.execute_input": "2023-10-24T17:55:03.084074Z",
     "iopub.status.busy": "2023-10-24T17:55:03.083490Z",
     "iopub.status.idle": "2023-10-24T17:55:03.104842Z",
     "shell.execute_reply": "2023-10-24T17:55:03.103538Z"
    },
    "papermill": {
     "duration": 0.030057,
     "end_time": "2023-10-24T17:55:03.107920",
     "exception": false,
     "start_time": "2023-10-24T17:55:03.077863",
     "status": "completed"
    },
    "tags": []
   },
   "outputs": [
    {
     "name": "stdout",
     "output_type": "stream",
     "text": [
      "     Name  Age\n",
      "1   hiral   17\n",
      "3   prexa   13\n",
      "2  shreya   15\n",
      "0   tisha   18\n"
     ]
    }
   ],
   "source": [
    "#Write a Pandas program to implement following operation\n",
    "#to sort the DataFrame first by 'name' in ascending order\n",
    "\n",
    "# Developed By: Solanki Tisha\n",
    "# Enrollement No: 216270307062\n",
    "\n",
    "import pandas as pd\n",
    "\n",
    "data = {\n",
    "    'Name': ['tisha','hiral','shreya','prexa'],\n",
    "    'Age': [18, 17, 15, 13] \n",
    "}\n",
    "\n",
    "df = pd.DataFrame(data)\n",
    "df_sorted = df.sort_values(by='Name', ascending=True)\n",
    "\n",
    "print(df_sorted)"
   ]
  },
  {
   "cell_type": "code",
   "execution_count": 3,
   "id": "9cf12e06",
   "metadata": {
    "execution": {
     "iopub.execute_input": "2023-10-24T17:55:03.117678Z",
     "iopub.status.busy": "2023-10-24T17:55:03.116968Z",
     "iopub.status.idle": "2023-10-24T17:55:03.134226Z",
     "shell.execute_reply": "2023-10-24T17:55:03.132674Z"
    },
    "papermill": {
     "duration": 0.024928,
     "end_time": "2023-10-24T17:55:03.136832",
     "exception": false,
     "start_time": "2023-10-24T17:55:03.111904",
     "status": "completed"
    },
    "tags": []
   },
   "outputs": [
    {
     "name": "stdout",
     "output_type": "stream",
     "text": [
      "Original DataFrame:\n",
      "      Name  Age\n",
      "0   tisha   18\n",
      "1   hiral   17\n",
      "2  shreya   15\n",
      "3   prexa   13\n",
      "\n",
      "Modified DataFrame:\n",
      "      Name\n",
      "0   tisha\n",
      "1   hiral\n",
      "2  shreya\n",
      "3   prexa\n"
     ]
    }
   ],
   "source": [
    "#Write a Pandas program to implement following operation\n",
    "#to delete the one specific column from the DataFrame\n",
    "\n",
    "# Developed By: Solanki Tisha\n",
    "# Enrollement No: 216270307062\n",
    "\n",
    "import pandas as pd\n",
    "\n",
    "data = {\n",
    "    'Name': ['tisha','hiral','shreya','prexa'],\n",
    "    'Age': [18, 17, 15, 13]\n",
    "}\n",
    "\n",
    "df = pd.DataFrame(data)\n",
    "print('Original DataFrame:\\n', df)\n",
    "\n",
    "df = df.drop(columns=['Age'])\n",
    "print('\\nModified DataFrame:\\n', df)"
   ]
  },
  {
   "cell_type": "code",
   "execution_count": 4,
   "id": "5121ab86",
   "metadata": {
    "execution": {
     "iopub.execute_input": "2023-10-24T17:55:03.144325Z",
     "iopub.status.busy": "2023-10-24T17:55:03.143934Z",
     "iopub.status.idle": "2023-10-24T17:55:03.158150Z",
     "shell.execute_reply": "2023-10-24T17:55:03.157004Z"
    },
    "papermill": {
     "duration": 0.021279,
     "end_time": "2023-10-24T17:55:03.161051",
     "exception": false,
     "start_time": "2023-10-24T17:55:03.139772",
     "status": "completed"
    },
    "tags": []
   },
   "outputs": [
    {
     "name": "stdout",
     "output_type": "stream",
     "text": [
      "DataFrame has been written to 'output_file.csv' with tab separator.\n"
     ]
    }
   ],
   "source": [
    "#Write a Pandas program to implement following operation\n",
    "#to write a DataFrame to CSV file using tab separator\n",
    "\n",
    "# Developed By: Solanki Tisha\n",
    "# Enrollement No: 216270307062\n",
    "\n",
    "import pandas as pd\n",
    "\n",
    "data = {\n",
    "    'Name': ['tisha','hiral','shreya','prexa'],\n",
    "    'Age': [18, 17, 15, 13]\n",
    "}\n",
    "\n",
    "df = pd.DataFrame(data)\n",
    "df.to_csv('output_file.csv', sep='\\t', index=False)\n",
    "\n",
    "print(\"DataFrame has been written to 'output_file.csv' with tab separator.\")"
   ]
  }
 ],
 "metadata": {
  "kernelspec": {
   "display_name": "Python 3",
   "language": "python",
   "name": "python3"
  },
  "language_info": {
   "codemirror_mode": {
    "name": "ipython",
    "version": 3
   },
   "file_extension": ".py",
   "mimetype": "text/x-python",
   "name": "python",
   "nbconvert_exporter": "python",
   "pygments_lexer": "ipython3",
   "version": "3.10.12"
  },
  "papermill": {
   "default_parameters": {},
   "duration": 4.964656,
   "end_time": "2023-10-24T17:55:03.685419",
   "environment_variables": {},
   "exception": null,
   "input_path": "__notebook__.ipynb",
   "output_path": "__notebook__.ipynb",
   "parameters": {},
   "start_time": "2023-10-24T17:54:58.720763",
   "version": "2.4.0"
  }
 },
 "nbformat": 4,
 "nbformat_minor": 5
}
